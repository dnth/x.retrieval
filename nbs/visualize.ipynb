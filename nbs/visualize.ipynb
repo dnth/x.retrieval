{
 "cells": [
  {
   "cell_type": "code",
   "execution_count": 1,
   "metadata": {},
   "outputs": [
    {
     "ename": "AttributeError",
     "evalue": "module 'xretrieval' has no attribute 'visualize_retrieval'",
     "output_type": "error",
     "traceback": [
      "\u001b[0;31m---------------------------------------------------------------------------\u001b[0m",
      "\u001b[0;31mAttributeError\u001b[0m                            Traceback (most recent call last)",
      "Cell \u001b[0;32mIn[1], line 2\u001b[0m\n\u001b[1;32m      1\u001b[0m \u001b[38;5;28;01mimport\u001b[39;00m \u001b[38;5;21;01mxretrieval\u001b[39;00m\n\u001b[0;32m----> 2\u001b[0m \u001b[43mxretrieval\u001b[49m\u001b[38;5;241;43m.\u001b[39;49m\u001b[43mvisualize_retrieval\u001b[49m(\u001b[38;5;124m\"\u001b[39m\u001b[38;5;124mcoco-val-2017\u001b[39m\u001b[38;5;124m\"\u001b[39m, \u001b[38;5;124m\"\u001b[39m\u001b[38;5;124mtransformers/Salesforce/blip2-itm-vit-g\u001b[39m\u001b[38;5;124m\"\u001b[39m)\n",
      "\u001b[0;31mAttributeError\u001b[0m: module 'xretrieval' has no attribute 'visualize_retrieval'"
     ]
    }
   ],
   "source": [
    "import xretrieval\n",
    "xretrieval.visualize_retrieval(\"coco-val-2017\", \"transformers/Salesforce/blip2-itm-vit-g-text\")\n"
   ]
  },
  {
   "cell_type": "code",
   "execution_count": null,
   "metadata": {},
   "outputs": [],
   "source": []
  }
 ],
 "metadata": {
  "kernelspec": {
   "display_name": "automatic-retrieval-benchmark",
   "language": "python",
   "name": "python3"
  },
  "language_info": {
   "codemirror_mode": {
    "name": "ipython",
    "version": 3
   },
   "file_extension": ".py",
   "mimetype": "text/x-python",
   "name": "python",
   "nbconvert_exporter": "python",
   "pygments_lexer": "ipython3",
   "version": "3.11.10"
  }
 },
 "nbformat": 4,
 "nbformat_minor": 2
}
